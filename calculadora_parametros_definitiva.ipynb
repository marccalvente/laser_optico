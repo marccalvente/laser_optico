{
 "cells": [
  {
   "cell_type": "code",
   "execution_count": 10,
   "id": "fd285831",
   "metadata": {},
   "outputs": [],
   "source": [
    "import numpy as np\n",
    "import sympy\n",
    "import math\n",
    "import matplotlib.pyplot as plt"
   ]
  },
  {
   "cell_type": "code",
   "execution_count": 2,
   "id": "6434058f",
   "metadata": {},
   "outputs": [],
   "source": [
    "#Tamaños estándar humanos en mm (radio)\n",
    "radio_cornea = 12/2\n",
    "radio_ojo = 25/2"
   ]
  },
  {
   "cell_type": "code",
   "execution_count": 131,
   "id": "9c12a225",
   "metadata": {},
   "outputs": [],
   "source": [
    "x1 = -3\n",
    "y1 = 1\n",
    "x2 = -2\n",
    "y2 = -2\n",
    "ri = 3\n",
    "d_arcos = 0.2"
   ]
  },
  {
   "cell_type": "code",
   "execution_count": 136,
   "id": "6156b067",
   "metadata": {},
   "outputs": [],
   "source": [
    "## Prueba Q1 y Q4 -- OK, resultado bueno [1]\n",
    "x1 = 4\n",
    "y1 = 1\n",
    "x2 = 4\n",
    "y2 = -1\n",
    "ri = 3\n",
    "d_arcos = 0.2"
   ]
  },
  {
   "cell_type": "code",
   "execution_count": 20,
   "id": "a061f570",
   "metadata": {},
   "outputs": [],
   "source": [
    "## Prueba Q1 y Q2 -- NO SE PUEDE RESOLVER!!!!\n",
    "x1 = 1\n",
    "y1 = 4\n",
    "x2 = -1\n",
    "y2 = 4\n",
    "ri = 3\n",
    "d_arcos = 0.2\n"
   ]
  },
  {
   "cell_type": "code",
   "execution_count": 106,
   "id": "3556e983",
   "metadata": {},
   "outputs": [],
   "source": [
    "## Prueba Q2 y Q3 -- invertido, resultado bueno [1]\n",
    "x1 = -4\n",
    "y1 = 1\n",
    "x2 = -4\n",
    "y2 = -1\n",
    "ri = 3\n",
    "d_arcos = 0.2"
   ]
  },
  {
   "cell_type": "code",
   "execution_count": 102,
   "id": "21013196",
   "metadata": {},
   "outputs": [],
   "source": [
    "## Prueba Q3 y Q4 -- NO SE PUEDE RESOLVER!!!!\n",
    "x1 = -1\n",
    "y1 = -4\n",
    "x2 = 1\n",
    "y2 = -4\n",
    "ri = 3\n",
    "d_arcos = 0.2"
   ]
  },
  {
   "cell_type": "code",
   "execution_count": 141,
   "id": "f0ba4565",
   "metadata": {},
   "outputs": [],
   "source": [
    "## Prueba en Q1 -- OK, resultado bueno [1]\n",
    "x1 = 2\n",
    "y1 = 3\n",
    "x2 = 3\n",
    "y2 = 2\n",
    "ri = 3\n",
    "d_arcos = 0.2"
   ]
  },
  {
   "cell_type": "code",
   "execution_count": 57,
   "id": "4dbd9cfa",
   "metadata": {},
   "outputs": [],
   "source": [
    "## Prueba en Q2  -- invertido, resultado bueno [1]\n",
    "x1 = -2\n",
    "y1 = 3\n",
    "x2 = -3\n",
    "y2 = 2\n",
    "ri = 3\n",
    "d_arcos = 0.2"
   ]
  },
  {
   "cell_type": "code",
   "execution_count": 110,
   "id": "c0447006",
   "metadata": {},
   "outputs": [],
   "source": [
    "## Prueba en Q3 -- invertido, resultado bueno [1]\n",
    "x1 = -2\n",
    "y1 = -3\n",
    "x2 = -3\n",
    "y2 = -2\n",
    "ri = 3\n",
    "d_arcos = 0.2"
   ]
  },
  {
   "cell_type": "code",
   "execution_count": 73,
   "id": "218ef922",
   "metadata": {},
   "outputs": [],
   "source": [
    "## Prueba en Q4 -- OK, resultado bueno [1]\n",
    "x1 = 2\n",
    "y1 = -3\n",
    "x2 = 3\n",
    "y2 = -2\n",
    "ri = 3\n",
    "d_arcos = 0.2"
   ]
  },
  {
   "cell_type": "code",
   "execution_count": 88,
   "id": "dc498ca1",
   "metadata": {},
   "outputs": [],
   "source": [
    "def calcula_parametros(x1, y1, x2, y2, ri, d_arcos):\n",
    "    '''\n",
    "    Inputs: \n",
    "        Punto: (x1, y1)\n",
    "        Punto: (x2, y2) \n",
    "        Radiio circunferencia interna: ri\n",
    "        Distáncia entre los arcos: d_arcos\n",
    "\n",
    "    Incógnitas/Outputs: \n",
    "        Centro circunferencia externa: (cxe, cye)\n",
    "        Centro circunferencia interna: (cxi, cyi)\n",
    "        Radio circunferencia externa: re\n",
    "\n",
    "    eq1 = Circunferencia externa pasa por punto 1\n",
    "    eq2 = Circunferencia externa pasa por punto 2\n",
    "    eq3 = Circunferencia interna pasa por punto 1\n",
    "    eq4 = Circunferencia interna pasa por punto 2\n",
    "    eq5 = Distancia entre los arcos (aunque supone que están alineados los centros)\n",
    "\n",
    "    Resuelve el sistema de ecuaciones cuadráticas siguiente para devolver los outputs necesarios para plottear las circunferencias.\n",
    "    '''\n",
    "    cxe, cye, cxi, cyi, re = sympy.symbols(\"cxe cye cxi cyi re\", real=True)\n",
    "\n",
    "    eq1 = sympy.Eq((x1 - cxe)**2 + (y1 - cye)**2 -(re**2), 0)\n",
    "    eq2 = sympy.Eq((x2 - cxe)**2 + (y2 - cye)**2 -(re**2), 0)\n",
    "\n",
    "    eq3 = sympy.Eq((x1 - cxi)**2 + (y1 - cyi)**2 -(ri**2), 0)\n",
    "    eq4 = sympy.Eq((x2 - cxi)**2 + (y2 - cyi)**2 -(ri**2), 0)\n",
    "\n",
    "    eq5 = sympy.Eq(re - ri + sympy.sqrt((cxe-cxi)**2+(cye-cyi)**2) - d_arcos, 0)\n",
    "\n",
    "    result = sympy.solve([eq1, eq2, eq3, eq4, eq5])\n",
    "    \n",
    "    cxe = float(result[1][cxe].evalf())\n",
    "    cye = float(result[1][cye].evalf())\n",
    "    cxi = float(result[1][cxi].evalf())\n",
    "    cyi = float(result[1][cyi].evalf())\n",
    "    re = float(result[1][re].evalf())\n",
    "    \n",
    "#     cxe = float(result[0][cxe].evalf())\n",
    "#     cye = float(result[0][cye].evalf())\n",
    "#     cxi = float(result[0][cxi].evalf())\n",
    "#     cyi = float(result[0][cyi].evalf())\n",
    "#     re = float(result[0][re].evalf())\n",
    "        \n",
    "    return cxe, cye, cxi, cyi, re"
   ]
  },
  {
   "cell_type": "code",
   "execution_count": 142,
   "id": "5b95a5d4",
   "metadata": {},
   "outputs": [],
   "source": [
    "cxe, cye, cxi, cyi, re = calcula_parametros(x1, y1, x2, y2, ri, d_arcos)"
   ]
  },
  {
   "cell_type": "code",
   "execution_count": 90,
   "id": "e3197d53",
   "metadata": {
    "scrolled": false
   },
   "outputs": [],
   "source": [
    "def genera_grafico(x1, y1, x2, y2, cxe, cye, re, cxi, cyi, ri):\n",
    "    '''\n",
    "    inputs: \n",
    "        Dos puntos en el espacio (x1, y1), (x2, y2)\n",
    "        Centro de la circunferencia externa (cxe, cye) y su radio re\n",
    "        Centro de la circunferencia interna (cxi, cyi) y su radio ri\n",
    "\n",
    "    output: fig: una figura de matplotlib que tiene ploteados los puntos (x1, y1), (x2, y2), la circunferencia externa, la circunferencia interna\n",
    "                 y la circunferencia de una córnea humana estándar\n",
    "    '''\n",
    "    plt.ioff()\n",
    "    fig, ax =  plt.subplots()\n",
    "    cm = 1/2.54 #Para convertir el tamaño\n",
    "    fig.set_size_inches(20*cm, 20*cm)\n",
    "    \n",
    "    radio_cornea = 12/2 #Tamaños estándar humanos en mm (radio)\n",
    "\n",
    "    cornea = plt.Circle((0, 0), radio_cornea, color='turquoise', fill=False)\n",
    "    corte_externo = plt.Circle((cxe, cye), re, color='red', fill=False, linewidth=0.2)\n",
    "    corte_interno = plt.Circle((cxi, cyi), ri, color='red', fill=False, linewidth=0.2)\n",
    "\n",
    "    ax.cla() # clear things for fresh plot\n",
    "\n",
    "    ax.set_aspect('equal') # Para que el gráfico sea cuadrado\n",
    "\n",
    "    # Cambiar el límite que se muestra\n",
    "    ax.set_xlim((-7, 7))\n",
    "    ax.set_ylim((-7, 7))\n",
    "\n",
    "    # Plot puntos\n",
    "    ax.plot((x1), (y1), 'o', color='coral')\n",
    "    ax.plot((x2), (y2), 'o', color='coral')\n",
    "\n",
    "    # Plot ejes\n",
    "    plt.axvline(x = 0, color = 'k', linewidth=0.5)\n",
    "    plt.axhline(y = 0, color = 'k', linewidth=0.5)\n",
    "\n",
    "    # Plot los círculos\n",
    "    ax.add_patch(cornea)\n",
    "    ax.add_patch(corte_externo)\n",
    "    ax.add_patch(corte_interno)\n",
    "    \n",
    "    return fig"
   ]
  },
  {
   "cell_type": "code",
   "execution_count": 143,
   "id": "82e5a26f",
   "metadata": {},
   "outputs": [
    {
     "data": {
      "image/png": "[encoded data removed]",
      "text/plain": [
       "<Figure size 787.402x787.402 with 1 Axes>"
      ]
     },
     "execution_count": 143,
     "metadata": {},
     "output_type": "execute_result"
    }
   ],
   "source": [
    "genera_grafico(x1, y1, x2, y2, cxe, cye, re, cxi, cyi, ri)"
   ]
  },
  {
   "cell_type": "code",
   "execution_count": 35,
   "id": "d9babf3b",
   "metadata": {},
   "outputs": [
    {
     "data": {
      "text/plain": [
       "47.24605999447884"
      ]
     },
     "execution_count": 35,
     "metadata": {},
     "output_type": "execute_result"
    }
   ],
   "source": [
    "distancia_entre_arcos = re + math.sqrt(cxe**2 + cye**2) - ri + math.sqrt(cxi**2 + cyi**2)\n",
    "distancia_entre_arcos"
   ]
  },
  {
   "cell_type": "code",
   "execution_count": 92,
   "id": "f07c4a54",
   "metadata": {},
   "outputs": [
    {
     "name": "stdout",
     "output_type": "stream",
     "text": [
      "-5.159844617003941 0.0\n"
     ]
    }
   ],
   "source": [
    "print(cxe, cye)"
   ]
  },
  {
   "cell_type": "code",
   "execution_count": 93,
   "id": "79d653be",
   "metadata": {},
   "outputs": [
    {
     "name": "stdout",
     "output_type": "stream",
     "text": [
      "-6.82842712474619 0.0\n"
     ]
    }
   ],
   "source": [
    "print(cxi, cyi)"
   ]
  },
  {
   "cell_type": "code",
   "execution_count": 36,
   "id": "2fa8ca94",
   "metadata": {},
   "outputs": [
    {
     "data": {
      "text/plain": [
       "0.20000000000000007"
      ]
     },
     "execution_count": 36,
     "metadata": {},
     "output_type": "execute_result"
    }
   ],
   "source": [
    "re - ri + math.sqrt((cxe-cxi)**2+(cye-cyi)**2)"
   ]
  },
  {
   "cell_type": "code",
   "execution_count": 94,
   "id": "a6acffca",
   "metadata": {},
   "outputs": [],
   "source": [
    "def calcula_angulo(d_arcos, profundidad):\n",
    "    '''\n",
    "    inputs: \n",
    "        d_arcos: distáncia entre los arcos\n",
    "        profundidad: profundidad donde deben cortarse los arcos\n",
    "            \n",
    "    outputs: \n",
    "        ángulo_externo: ángulo de corte para la sección más externa\n",
    "        ángulo_interno: ángulo de corte para la sección más interna (+ cercana centro ojo)\n",
    "    '''\n",
    "    angulo_externo = math.degrees(math.atan(profundidad/(d_arcos*0.5)))\n",
    "    angulo_interno = 180 - angulo_externo\n",
    "\n",
    "    return angulo_externo, angulo_interno"
   ]
  },
  {
   "cell_type": "code",
   "execution_count": 95,
   "id": "1f4aff36",
   "metadata": {},
   "outputs": [],
   "source": [
    "angulo_externo, angulo_interno = calcula_angulo(d_arcos, 0.3)"
   ]
  },
  {
   "cell_type": "code",
   "execution_count": 96,
   "id": "713237d0",
   "metadata": {},
   "outputs": [
    {
     "data": {
      "text/plain": [
       "(71.56505117707799, 108.43494882292201)"
      ]
     },
     "execution_count": 96,
     "metadata": {},
     "output_type": "execute_result"
    }
   ],
   "source": [
    "angulo_externo, angulo_interno"
   ]
  },
  {
   "cell_type": "code",
   "execution_count": 97,
   "id": "5f7104f4",
   "metadata": {},
   "outputs": [],
   "source": [
    "angulo = 270"
   ]
  },
  {
   "cell_type": "code",
   "execution_count": 98,
   "id": "e95159d6",
   "metadata": {},
   "outputs": [
    {
     "data": {
      "text/plain": [
       "270"
      ]
     },
     "execution_count": 98,
     "metadata": {},
     "output_type": "execute_result"
    }
   ],
   "source": [
    "angulo%360"
   ]
  },
  {
   "cell_type": "code",
   "execution_count": 99,
   "id": "fa4821c2",
   "metadata": {},
   "outputs": [],
   "source": [
    "def calcula_longitud_arco(x1, y1, x2, y2, cx, cy):\n",
    "    '''\n",
    "    inputs: \n",
    "        Punto 1: x2, y1\n",
    "        Punto 2: x2, y2\n",
    "        Centro: cx, cy\n",
    "\n",
    "    outputs: angulo en grados\n",
    "\n",
    "    Calcula el ángulo que forman dos puntos respecto a un centro.\n",
    "    '''\n",
    "    P1 = [x1, y1]\n",
    "    P2 = [x2, y2]\n",
    "    C = [cx, cy]\n",
    "\n",
    "    angulo = 2*math.asin(math.dist(P1,P2)*0.5/(math.dist(C,P1)))\n",
    "\n",
    "    return math.degrees(angulo)"
   ]
  },
  {
   "cell_type": "code",
   "execution_count": 48,
   "id": "af3d10c7",
   "metadata": {},
   "outputs": [
    {
     "data": {
      "text/plain": [
       "81.53480204073293"
      ]
     },
     "execution_count": 48,
     "metadata": {},
     "output_type": "execute_result"
    }
   ],
   "source": [
    "calcula_longitud_arco(x1, y1, x2, y2, cxe, cye)"
   ]
  },
  {
   "cell_type": "code",
   "execution_count": 100,
   "id": "8c6d62f8",
   "metadata": {},
   "outputs": [],
   "source": [
    "def calcula_angulo_con_horizontal(x, y, cx, cy):\n",
    "    '''\n",
    "    input: \n",
    "        coordenadas cartesianas(x, y)\n",
    "        centro de coordenadas (cx, cy)\n",
    "    output: ángulo que forma con la horizontal en grados (º)\n",
    "\n",
    "    Calcula el ángulo que forma la coordenada cartesiana con la horizontal (con el 0 situado a las 9h, a la izquierda)\n",
    "    '''\n",
    "    phi = np.arctan2(y-cy, x-cx)\n",
    "    angulo_grados = math.degrees(phi)\n",
    "    angulo_resultado = (angulo_grados+180)%360\n",
    "    return angulo_resultado"
   ]
  },
  {
   "cell_type": "code",
   "execution_count": 76,
   "id": "539cd53c",
   "metadata": {},
   "outputs": [
    {
     "data": {
      "text/plain": [
       "139.23259897963354"
      ]
     },
     "execution_count": 76,
     "metadata": {},
     "output_type": "execute_result"
    }
   ],
   "source": [
    "calcula_angulo_con_horizontal(x2, y2, cxe, cye)"
   ]
  },
  {
   "cell_type": "code",
   "execution_count": 62,
   "id": "10e9cea2",
   "metadata": {},
   "outputs": [],
   "source": [
    "angle1 = 350\n",
    "angle2 = 340"
   ]
  },
  {
   "cell_type": "code",
   "execution_count": 63,
   "id": "2678bd4b",
   "metadata": {},
   "outputs": [
    {
     "data": {
      "text/plain": [
       "165.0"
      ]
     },
     "execution_count": 63,
     "metadata": {},
     "output_type": "execute_result"
    }
   ],
   "source": [
    "((angle1 + angle2)%360)/2"
   ]
  },
  {
   "cell_type": "code",
   "execution_count": 79,
   "id": "af6227d0",
   "metadata": {},
   "outputs": [
    {
     "data": {
      "text/plain": [
       "(4.0, 0.0)"
      ]
     },
     "execution_count": 79,
     "metadata": {},
     "output_type": "execute_result"
    }
   ],
   "source": [
    "(x1+x2)/2, (y1+y2)/2"
   ]
  },
  {
   "cell_type": "code",
   "execution_count": 78,
   "id": "fd0d1cf6",
   "metadata": {},
   "outputs": [
    {
     "data": {
      "text/plain": [
       "2"
      ]
     },
     "execution_count": 78,
     "metadata": {},
     "output_type": "execute_result"
    }
   ],
   "source": [
    "y1-y2"
   ]
  },
  {
   "cell_type": "code",
   "execution_count": 144,
   "id": "b370bb07",
   "metadata": {},
   "outputs": [
    {
     "data": {
      "text/plain": [
       "225.0"
      ]
     },
     "execution_count": 144,
     "metadata": {},
     "output_type": "execute_result"
    }
   ],
   "source": [
    "angulo_medio_externo = calcula_angulo_con_horizontal((x1+x2)/2, (y1+y2)/2, cxe, cye)\n",
    "angulo_medio"
   ]
  },
  {
   "cell_type": "code",
   "execution_count": 145,
   "id": "820517f1",
   "metadata": {},
   "outputs": [
    {
     "data": {
      "text/plain": [
       "225.0"
      ]
     },
     "execution_count": 145,
     "metadata": {},
     "output_type": "execute_result"
    }
   ],
   "source": [
    "angulo_medio_interno = calcula_angulo_con_horizontal((x1+x2)/2, (y1+y2)/2, cxi, cyi)\n",
    "angulo_medio"
   ]
  },
  {
   "cell_type": "code",
   "execution_count": null,
   "id": "bef05c4d",
   "metadata": {},
   "outputs": [],
   "source": []
  }
 ],
 "metadata": {
  "kernelspec": {
   "display_name": "Python 3 (ipykernel)",
   "language": "python",
   "name": "python3"
  },
  "language_info": {
   "codemirror_mode": {
    "name": "ipython",
    "version": 3
   },
   "file_extension": ".py",
   "mimetype": "text/x-python",
   "name": "python",
   "nbconvert_exporter": "python",
   "pygments_lexer": "ipython3",
   "version": "3.10.8"
  }
 },
 "nbformat": 4,
 "nbformat_minor": 5
}
